{
  "nbformat": 4,
  "nbformat_minor": 0,
  "metadata": {
    "colab": {
      "provenance": []
    },
    "kernelspec": {
      "name": "python3",
      "display_name": "Python 3"
    },
    "language_info": {
      "name": "python"
    }
  },
  "cells": [
    {
      "cell_type": "markdown",
      "source": [
        "# Python Basics for Astronomy"
      ],
      "metadata": {
        "id": "lc9T04WNouUu"
      }
    },
    {
      "cell_type": "code",
      "source": [
        "# My first code in Python\n",
        "print(\"hello world!\")"
      ],
      "metadata": {
        "colab": {
          "base_uri": "https://localhost:8080/"
        },
        "id": "wfUtm8cjo0kg",
        "outputId": "fc02849a-d227-4396-9cc5-68c238e0a4da"
      },
      "execution_count": null,
      "outputs": [
        {
          "output_type": "stream",
          "name": "stdout",
          "text": [
            "hello world!\n"
          ]
        }
      ]
    },
    {
      "cell_type": "markdown",
      "source": [
        "### 1. Comments"
      ],
      "metadata": {
        "id": "2t4X9HJhq78w"
      }
    },
    {
      "cell_type": "markdown",
      "source": [],
      "metadata": {
        "id": "Rw1TafkvcZuu"
      }
    },
    {
      "cell_type": "code",
      "source": [
        "\"\"\"\n",
        "This is my first line of comment\n",
        "This is my second line of comment\n",
        "\"\"\""
      ],
      "metadata": {
        "id": "0frvaCXAq7GF",
        "colab": {
          "base_uri": "https://localhost:8080/",
          "height": 36
        },
        "outputId": "1cf86ad7-2321-44e8-e2a3-23ac6a0d2ae8"
      },
      "execution_count": null,
      "outputs": [
        {
          "output_type": "execute_result",
          "data": {
            "text/plain": [
              "'\\nThis is my first line of comment\\nThis is my second line of comment\\n'"
            ],
            "application/vnd.google.colaboratory.intrinsic+json": {
              "type": "string"
            }
          },
          "metadata": {},
          "execution_count": 16
        }
      ]
    },
    {
      "cell_type": "code",
      "source": [
        "# kdshfisdhf\n",
        "# dsjfndsoif\n",
        "# fndsjof\n",
        "# sfjbnf'wdfnif\n",
        "# jdnfpf;safjiefp'"
      ],
      "metadata": {
        "id": "TFf6sIBJrR2I"
      },
      "execution_count": null,
      "outputs": []
    },
    {
      "cell_type": "markdown",
      "source": [
        "### 2. Variables and Constants"
      ],
      "metadata": {
        "id": "WpRCTGituLIs"
      }
    },
    {
      "cell_type": "code",
      "source": [
        "x = 4\n",
        "y = 5\n",
        "print(x + x + y + x + y)"
      ],
      "metadata": {
        "colab": {
          "base_uri": "https://localhost:8080/"
        },
        "id": "csOb1KUiuJ1B",
        "outputId": "811e8078-e153-4264-8b45-e5891558d1ef"
      },
      "execution_count": 1,
      "outputs": [
        {
          "output_type": "stream",
          "name": "stdout",
          "text": [
            "22\n"
          ]
        }
      ]
    },
    {
      "cell_type": "code",
      "source": [
        "y = 1"
      ],
      "metadata": {
        "id": "6-toHLsEvBmZ"
      },
      "execution_count": null,
      "outputs": []
    },
    {
      "cell_type": "markdown",
      "source": [
        "### 3. Basic Data Types"
      ],
      "metadata": {
        "id": "reu-R80TvwQ_"
      }
    },
    {
      "cell_type": "code",
      "source": [
        "# Create varaibles to store the information about a planet in our Solar System\n",
        "planet_name = 'Venus'\n",
        "planet_age = '4.6 Billion Years'\n",
        "planet_index = 1     # In Python, index starts from 0. Hence, Venus is on Index 1 after Mercury on Index 0"
      ],
      "metadata": {
        "id": "cwlavqV6vxgn"
      },
      "execution_count": null,
      "outputs": []
    },
    {
      "cell_type": "code",
      "source": [
        "# Displaying the data values for each variables\n",
        "print(planet_name)\n",
        "print(planet_age)\n",
        "print(planet_index)"
      ],
      "metadata": {
        "colab": {
          "base_uri": "https://localhost:8080/"
        },
        "id": "oKtB8r3Gwf1I",
        "outputId": "8473934a-e66b-4787-ac2e-5a77fc25e3e4"
      },
      "execution_count": null,
      "outputs": [
        {
          "output_type": "stream",
          "name": "stdout",
          "text": [
            "Venus\n",
            "4.6 Billion Years\n",
            "1\n"
          ]
        }
      ]
    },
    {
      "cell_type": "code",
      "source": [
        "# Checking the type of variables by using type() command\n",
        "print(type(planet_name))\n",
        "print(type(planet_age))\n",
        "print(type(planet_index))"
      ],
      "metadata": {
        "colab": {
          "base_uri": "https://localhost:8080/"
        },
        "id": "0DfS0DkAx2c4",
        "outputId": "bfd156aa-c50d-47c5-b8ff-ded891f4eb09"
      },
      "execution_count": null,
      "outputs": [
        {
          "output_type": "stream",
          "name": "stdout",
          "text": [
            "<class 'str'>\n",
            "<class 'str'>\n",
            "<class 'int'>\n"
          ]
        }
      ]
    },
    {
      "cell_type": "code",
      "source": [
        "z = 3.2\n",
        "print(type(z))"
      ],
      "metadata": {
        "colab": {
          "base_uri": "https://localhost:8080/"
        },
        "id": "UDDQK-UiyDB3",
        "outputId": "36b89d39-17eb-4c6b-ffa1-f6dad174e509"
      },
      "execution_count": null,
      "outputs": [
        {
          "output_type": "stream",
          "name": "stdout",
          "text": [
            "<class 'float'>\n"
          ]
        }
      ]
    },
    {
      "cell_type": "markdown",
      "source": [
        "### 4. f-strings"
      ],
      "metadata": {
        "id": "6xf0pLoGy4GW"
      }
    },
    {
      "cell_type": "code",
      "source": [
        "# Understanding the power of f-strings\n",
        "name_planet = 'venus'\n",
        "moons_planet = 150\n",
        "print(f\"Planet {name_planet} has {moons_planet} Moons\")"
      ],
      "metadata": {
        "colab": {
          "base_uri": "https://localhost:8080/"
        },
        "id": "oldv3vNoy52Y",
        "outputId": "42cfc41a-9eda-4bf9-a0a5-a8915cbca471"
      },
      "execution_count": 2,
      "outputs": [
        {
          "output_type": "stream",
          "name": "stdout",
          "text": [
            "Planet venus has 150 Moons\n"
          ]
        }
      ]
    },
    {
      "cell_type": "code",
      "source": [
        "# String concatenation\n",
        "str_1 = \"Earth is the only planet with Life.\"\n",
        "str_2 = \"Maybe not! :D\"\n",
        "print(f'{str_1} {str_2}')"
      ],
      "metadata": {
        "colab": {
          "base_uri": "https://localhost:8080/"
        },
        "id": "-CRUNPOEz0cL",
        "outputId": "7523c2bf-288e-4997-d6f7-28923fbe2181"
      },
      "execution_count": 3,
      "outputs": [
        {
          "output_type": "stream",
          "name": "stdout",
          "text": [
            "Earth is the only planet with Life. Maybe not! :D\n"
          ]
        }
      ]
    },
    {
      "cell_type": "markdown",
      "source": [
        "### 5. User Inputs"
      ],
      "metadata": {
        "id": "3StFZzue1OsM"
      }
    },
    {
      "cell_type": "code",
      "source": [
        "# Use input() to take user inputs\n",
        "user_name = input(\"Enter your name:- \")"
      ],
      "metadata": {
        "colab": {
          "base_uri": "https://localhost:8080/"
        },
        "id": "Ah5jX08X1Qg3",
        "outputId": "530f218f-ae33-46fb-b200-5a222e1dd5b8"
      },
      "execution_count": 4,
      "outputs": [
        {
          "name": "stdout",
          "output_type": "stream",
          "text": [
            "Enter your name:- anurag\n"
          ]
        }
      ]
    },
    {
      "cell_type": "code",
      "source": [
        "# Displaying the variable and its type given by the user\n",
        "print(user_name)\n",
        "print(type(user_name))"
      ],
      "metadata": {
        "colab": {
          "base_uri": "https://localhost:8080/"
        },
        "id": "3pUxcmYg1ljF",
        "outputId": "914b74a8-a899-4b9d-a368-809729418ea9"
      },
      "execution_count": 5,
      "outputs": [
        {
          "output_type": "stream",
          "name": "stdout",
          "text": [
            "anurag\n",
            "<class 'str'>\n"
          ]
        }
      ]
    },
    {
      "cell_type": "code",
      "source": [
        "# Ask user to input their fav number\n",
        "user_fav_number = input('Enter your favourite number:- ')"
      ],
      "metadata": {
        "colab": {
          "base_uri": "https://localhost:8080/"
        },
        "id": "LVtlIU4u1zHU",
        "outputId": "f52be184-ade0-4131-9961-0005695e4c3c"
      },
      "execution_count": 6,
      "outputs": [
        {
          "name": "stdout",
          "output_type": "stream",
          "text": [
            "Enter your favourite number:- 3\n"
          ]
        }
      ]
    },
    {
      "cell_type": "code",
      "source": [
        "# Diplay the variable and its type given by the user\n",
        "print(user_fav_number)\n",
        "print(type(user_fav_number))"
      ],
      "metadata": {
        "colab": {
          "base_uri": "https://localhost:8080/"
        },
        "id": "a2TKQz8T2C7n",
        "outputId": "802a64f5-6771-4dcd-a38e-bbaf05ffa451"
      },
      "execution_count": 7,
      "outputs": [
        {
          "output_type": "stream",
          "name": "stdout",
          "text": [
            "3\n",
            "<class 'str'>\n"
          ]
        }
      ]
    },
    {
      "cell_type": "markdown",
      "source": [
        "### 6. Data Type Conversion"
      ],
      "metadata": {
        "id": "Dv6hfZ-K4MtZ"
      }
    },
    {
      "cell_type": "code",
      "source": [
        "# Commands to convert --> str(input), int(input), float(input)\n",
        "\n",
        "# Convert a string data into integer and float\n",
        "str_to_int = int(user_fav_number)\n",
        "print(str_to_int)\n",
        "print(type(str_to_int))\n",
        "\n",
        "str_to_float = float(user_fav_number)\n",
        "print(str_to_float)\n",
        "print(type(str_to_float))"
      ],
      "metadata": {
        "colab": {
          "base_uri": "https://localhost:8080/"
        },
        "id": "VhbUKCKL4QRY",
        "outputId": "fb6357d9-ba71-4d7d-f66e-15b530f5d7ce"
      },
      "execution_count": 8,
      "outputs": [
        {
          "output_type": "stream",
          "name": "stdout",
          "text": [
            "3\n",
            "<class 'int'>\n",
            "3.0\n",
            "<class 'float'>\n"
          ]
        }
      ]
    },
    {
      "cell_type": "code",
      "source": [
        "# Get user input of two different integers and add them together\n",
        "n1 = int(input('Give any integer number:- '))\n",
        "n2 = int(input('Give one more integer:- '))\n",
        "print(f\"The sum of {n1} and {n2} is {n1+n2}\")"
      ],
      "metadata": {
        "colab": {
          "base_uri": "https://localhost:8080/"
        },
        "id": "yOfmYy41587N",
        "outputId": "08a8c88d-09c2-4f62-9ad5-0b6df213b4f3"
      },
      "execution_count": 9,
      "outputs": [
        {
          "output_type": "stream",
          "name": "stdout",
          "text": [
            "Give any integer number:- 23\n",
            "Give one more integer:- 89\n",
            "The sum of 23 and 89 is 112\n"
          ]
        }
      ]
    },
    {
      "cell_type": "markdown",
      "source": [
        "### 7. Control Flow\n",
        "* For Loop and While Loop\n",
        "* Condition Statements"
      ],
      "metadata": {
        "id": "rqED3XGP8VmE"
      }
    },
    {
      "cell_type": "code",
      "source": [
        "# range(start, end, skip) ---> Start is inclusive and end is exclusive\n",
        "range(1, 11)"
      ],
      "metadata": {
        "colab": {
          "base_uri": "https://localhost:8080/"
        },
        "id": "x_Gs_vTt9Jsu",
        "outputId": "0c696250-7730-417a-aa2d-8e573948c001"
      },
      "execution_count": null,
      "outputs": [
        {
          "output_type": "execute_result",
          "data": {
            "text/plain": [
              "range(1, 11)"
            ]
          },
          "metadata": {},
          "execution_count": 80
        }
      ]
    },
    {
      "cell_type": "code",
      "source": [
        "# For loop\n",
        "for index in range(1, 11, 5):\n",
        "  print(index)"
      ],
      "metadata": {
        "id": "ar_AEqwj8c1Y",
        "colab": {
          "base_uri": "https://localhost:8080/"
        },
        "outputId": "58da27a9-b3cf-41d8-a1be-3c1ef683fc7e"
      },
      "execution_count": 12,
      "outputs": [
        {
          "output_type": "stream",
          "name": "stdout",
          "text": [
            "1\n",
            "6\n"
          ]
        }
      ]
    },
    {
      "cell_type": "code",
      "source": [
        "# convert any string into lower case\n",
        "str_demo = 'Upper Case'\n",
        "print(str_demo)\n",
        "\n",
        "print(str_demo.lower())"
      ],
      "metadata": {
        "colab": {
          "base_uri": "https://localhost:8080/"
        },
        "id": "QZr0b0iGABvM",
        "outputId": "0a3c08cd-a3e0-4445-bf6e-09c05e5d5f94"
      },
      "execution_count": 13,
      "outputs": [
        {
          "output_type": "stream",
          "name": "stdout",
          "text": [
            "Upper Case\n",
            "upper case\n"
          ]
        }
      ]
    },
    {
      "cell_type": "code",
      "source": [
        "# While Loop\n",
        "\n",
        "ct = 0\n",
        "print('--- Type \"quit\" to exit! ---')\n",
        "while True:\n",
        "  obj = input(f'Enter your favourite Celestial Object {ct+1}:- ')\n",
        "  ct += 1 # ct = ct + 1\n",
        "  if obj.lower() == 'quit':\n",
        "    break\n",
        "\n"
      ],
      "metadata": {
        "colab": {
          "base_uri": "https://localhost:8080/"
        },
        "id": "KFg6PF7t-C4K",
        "outputId": "f1063a3b-e01e-471c-dd86-bcd841e3cee0"
      },
      "execution_count": 14,
      "outputs": [
        {
          "name": "stdout",
          "output_type": "stream",
          "text": [
            "--- Type \"quit\" to exit! ---\n",
            "Enter your favourite Celestial Object 1:- rock\n",
            "Enter your favourite Celestial Object 2:- quit\n"
          ]
        }
      ]
    },
    {
      "cell_type": "markdown",
      "source": [
        "### 8. Functions"
      ],
      "metadata": {
        "id": "3qGOPO_CCW27"
      }
    },
    {
      "cell_type": "code",
      "source": [
        "# Creating a function to greet viewers of this video without any input arguments\n",
        "def greet():\n",
        "  print('Hey Astrophiles!')"
      ],
      "metadata": {
        "id": "kDCx3ZzrCYD5"
      },
      "execution_count": 15,
      "outputs": []
    },
    {
      "cell_type": "code",
      "source": [
        "# Call that function\n",
        "greet()"
      ],
      "metadata": {
        "colab": {
          "base_uri": "https://localhost:8080/"
        },
        "id": "wxhf5RyYC3PV",
        "outputId": "8992f8c6-0c21-41ea-c699-7224e034fb20"
      },
      "execution_count": 16,
      "outputs": [
        {
          "output_type": "stream",
          "name": "stdout",
          "text": [
            "Hey Astrophiles!\n"
          ]
        }
      ]
    },
    {
      "cell_type": "code",
      "source": [
        "# Define a function to greet a person whose name will be given as an input\n",
        "def greet_person(name):\n",
        "  print(f'Hey {name}, I hope you are enjoying this session and learning a lot of things in Python!')"
      ],
      "metadata": {
        "id": "6B9hv3HjDKqI"
      },
      "execution_count": 17,
      "outputs": []
    },
    {
      "cell_type": "code",
      "source": [
        "# Call that function\n",
        "greet_person('Anurag')"
      ],
      "metadata": {
        "colab": {
          "base_uri": "https://localhost:8080/"
        },
        "id": "fTJMCBkbDbKF",
        "outputId": "38bf36db-cf72-484a-febc-7e0518c01ad5"
      },
      "execution_count": 19,
      "outputs": [
        {
          "output_type": "stream",
          "name": "stdout",
          "text": [
            "Hey Anurag, I hope you are enjoying this session and learning a lot of things in Python!\n"
          ]
        }
      ]
    },
    {
      "cell_type": "code",
      "source": [
        "# Call this function with different name\n",
        "greet_person('Theerdha')"
      ],
      "metadata": {
        "colab": {
          "base_uri": "https://localhost:8080/"
        },
        "id": "HNT-irJxDjND",
        "outputId": "5fd144f5-c3a6-433b-fb30-84fb68a29e9f"
      },
      "execution_count": 20,
      "outputs": [
        {
          "output_type": "stream",
          "name": "stdout",
          "text": [
            "Hey Theerdha, I hope you are enjoying this session and learning a lot of things in Python!\n"
          ]
        }
      ]
    },
    {
      "cell_type": "code",
      "source": [
        "# Call this function to greet everyone here watching the video\n",
        "greet_person('everyone')"
      ],
      "metadata": {
        "colab": {
          "base_uri": "https://localhost:8080/"
        },
        "id": "xC8XxjY-Dwoy",
        "outputId": "66d8b597-de99-41ce-90ca-41252df9bfe8"
      },
      "execution_count": 21,
      "outputs": [
        {
          "output_type": "stream",
          "name": "stdout",
          "text": [
            "Hey everyone, I hope you are enjoying this session and learning a lot of things in Python!\n"
          ]
        }
      ]
    },
    {
      "cell_type": "code",
      "source": [
        "# Postional Arguments\n",
        "def greeting(name, msg):\n",
        "  print(f'Hey {name}, {msg}')"
      ],
      "metadata": {
        "id": "_6pAAJVXEA4j"
      },
      "execution_count": 23,
      "outputs": []
    },
    {
      "cell_type": "code",
      "source": [
        "# Call this function by placing the input arguments in the same order while building it\n",
        "greeting('Theerdha', 'Are you an Astrophile?')"
      ],
      "metadata": {
        "colab": {
          "base_uri": "https://localhost:8080/"
        },
        "id": "pXFSHRY4Ebuv",
        "outputId": "02449d9e-9009-4a10-e995-4ca33d458b0e"
      },
      "execution_count": 24,
      "outputs": [
        {
          "output_type": "stream",
          "name": "stdout",
          "text": [
            "Hey Theerdha, Are you an Astrophile?\n"
          ]
        }
      ]
    },
    {
      "cell_type": "code",
      "source": [
        "# Call the function by shifting the postions of the arguments\n",
        "greeting('Are you an Astrophile?', 'Theerdha')"
      ],
      "metadata": {
        "colab": {
          "base_uri": "https://localhost:8080/"
        },
        "id": "vh0jwn4tErpX",
        "outputId": "c9f32440-c848-48b1-c1c3-83e543ce8cb3"
      },
      "execution_count": 25,
      "outputs": [
        {
          "output_type": "stream",
          "name": "stdout",
          "text": [
            "Hey Are you an Astrophile?, Theerdha\n"
          ]
        }
      ]
    },
    {
      "cell_type": "code",
      "source": [
        "# Call this function with keyword arguments\n",
        "greeting(msg = 'Are you an Astrophile?', name = 'Theerdha')"
      ],
      "metadata": {
        "colab": {
          "base_uri": "https://localhost:8080/"
        },
        "id": "Uifm789-E9pt",
        "outputId": "dd96bb1f-70ec-4594-ceac-d05cc342b159"
      },
      "execution_count": 26,
      "outputs": [
        {
          "output_type": "stream",
          "name": "stdout",
          "text": [
            "Hey Theerdha, Are you an Astrophile?\n"
          ]
        }
      ]
    },
    {
      "cell_type": "code",
      "source": [
        "# Default arguments\n",
        "def greeting_with_default_args(name, msg='Welcome to this program on Astronomy Visualization!'):\n",
        "  print(f'Hey {name}, {msg}')"
      ],
      "metadata": {
        "id": "javVZFEtFL-s"
      },
      "execution_count": 27,
      "outputs": []
    },
    {
      "cell_type": "code",
      "source": [
        "# Call this function without passing msg arg\n",
        "greeting_with_default_args('Anurag', msg = 'Whats up?')"
      ],
      "metadata": {
        "colab": {
          "base_uri": "https://localhost:8080/"
        },
        "id": "5nslux-8Fe_I",
        "outputId": "3c887899-f813-4a58-8387-fca27eef46d5"
      },
      "execution_count": 28,
      "outputs": [
        {
          "output_type": "stream",
          "name": "stdout",
          "text": [
            "Hey Anurag, Whats up?\n"
          ]
        }
      ]
    },
    {
      "cell_type": "code",
      "source": [
        "# Create a function that will either add, subtract, multiply or divide two input numbers\n",
        "def basic_calc(n1, n2, operation):\n",
        "  \"\"\"\n",
        "  Creates a basic calculator that takes n1 and n2 in the same order and performs either of:-\n",
        "  - add\n",
        "  - subtract\n",
        "  - multiply\n",
        "  - divide\n",
        "\n",
        "  Parameters -\n",
        "  -----------\n",
        "  n1 - first number\n",
        "  n2 - second number\n",
        "  operations - any of the operations mentioned above for our basic calc\n",
        "\n",
        "  Return -\n",
        "  ------\n",
        "  The output of the operation done on n1 and n2\n",
        "  \"\"\"\n",
        "\n",
        "  if operation.lower() == 'add':\n",
        "    return n1+n2\n",
        "  elif operation.lower() == 'subtract':\n",
        "    return n1-n2\n",
        "  elif operation.lower() == 'multiply':\n",
        "    return n1*n2\n",
        "  elif operation.lower() == 'divide':\n",
        "    return n1/n2\n",
        "  else:\n",
        "    print(f'Opertation input can either take:- add, multiply, subtract or divide. You gave:- {operation}. Try again')"
      ],
      "metadata": {
        "id": "R7j1GithGB3G"
      },
      "execution_count": 29,
      "outputs": []
    },
    {
      "cell_type": "code",
      "source": [
        "addition = basic_calc(2, 3, 'add')\n",
        "print(addition)"
      ],
      "metadata": {
        "colab": {
          "base_uri": "https://localhost:8080/"
        },
        "id": "rNkj42BsGfAH",
        "outputId": "56fa1e05-4b6c-412d-963e-682557aed5bc"
      },
      "execution_count": 30,
      "outputs": [
        {
          "output_type": "stream",
          "name": "stdout",
          "text": [
            "5\n"
          ]
        }
      ]
    },
    {
      "cell_type": "code",
      "source": [
        "multiply = basic_calc(3, 3, 'multiply')\n",
        "print(multiply)"
      ],
      "metadata": {
        "colab": {
          "base_uri": "https://localhost:8080/"
        },
        "id": "ATifDCznHEYa",
        "outputId": "4e0a1e08-4961-4634-f4e9-1ec5955a865a"
      },
      "execution_count": 31,
      "outputs": [
        {
          "output_type": "stream",
          "name": "stdout",
          "text": [
            "9\n"
          ]
        }
      ]
    },
    {
      "cell_type": "code",
      "source": [
        "basic_calc(3, 3, 'daskdjakdjak')"
      ],
      "metadata": {
        "colab": {
          "base_uri": "https://localhost:8080/"
        },
        "id": "658yMro8HMXD",
        "outputId": "d42c9b10-5d0a-4372-8b5a-1e05bd9a7c9f"
      },
      "execution_count": 32,
      "outputs": [
        {
          "output_type": "stream",
          "name": "stdout",
          "text": [
            "Opertation input can either take:- add, multiply, subtract or divide. You gave:- daskdjakdjak. Try again\n"
          ]
        }
      ]
    },
    {
      "cell_type": "code",
      "source": [],
      "metadata": {
        "id": "EXqb2vk-gB5N"
      },
      "execution_count": 32,
      "outputs": []
    }
  ]
}